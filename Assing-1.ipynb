{
 "cells": [
  {
   "cell_type": "markdown",
   "id": "637cdaa6-260e-4453-8076-2834382b1e8d",
   "metadata": {},
   "source": [
    "Q1. Create one variable containing following type of data:"
   ]
  },
  {
   "cell_type": "code",
   "execution_count": 2,
   "id": "47ce94da-c368-4ac3-bbae-7447c05a716b",
   "metadata": {},
   "outputs": [],
   "source": [
    "a = ('vishal', 567.7,8.7,[4,5,7,8],(8,9,5,7))"
   ]
  },
  {
   "cell_type": "markdown",
   "id": "1b45f000-4c08-4b83-964c-0ea7d91cfdaa",
   "metadata": {},
   "source": [
    "Q2. Given are some following variables containing data:"
   ]
  },
  {
   "cell_type": "code",
   "execution_count": 3,
   "id": "72b1acf8-ea4a-4f0f-81a5-12fdd6eae543",
   "metadata": {},
   "outputs": [],
   "source": [
    "a = 'vishal'"
   ]
  },
  {
   "cell_type": "code",
   "execution_count": 4,
   "id": "080dab40-47fd-4039-bf1d-e5e035358ff3",
   "metadata": {},
   "outputs": [
    {
     "data": {
      "text/plain": [
       "str"
      ]
     },
     "execution_count": 4,
     "metadata": {},
     "output_type": "execute_result"
    }
   ],
   "source": [
    "type(a)"
   ]
  },
  {
   "cell_type": "code",
   "execution_count": 5,
   "id": "a5ce81c0-ee22-4e31-aa3d-f105dbdbfaaa",
   "metadata": {},
   "outputs": [],
   "source": [
    "b = '[DS,ML,Python]'"
   ]
  },
  {
   "cell_type": "code",
   "execution_count": 6,
   "id": "65dac610-0508-4e6b-b027-07f9fe81cd5f",
   "metadata": {},
   "outputs": [
    {
     "data": {
      "text/plain": [
       "str"
      ]
     },
     "execution_count": 6,
     "metadata": {},
     "output_type": "execute_result"
    }
   ],
   "source": [
    "type(b)"
   ]
  },
  {
   "cell_type": "code",
   "execution_count": 7,
   "id": "fc3fbb04-c0c5-4852-9909-6171e6222cdb",
   "metadata": {},
   "outputs": [],
   "source": [
    "c = ['DS','ML','Python']"
   ]
  },
  {
   "cell_type": "code",
   "execution_count": 8,
   "id": "46e2bce7-4e20-40d2-9380-dddeca2b980c",
   "metadata": {},
   "outputs": [
    {
     "data": {
      "text/plain": [
       "list"
      ]
     },
     "execution_count": 8,
     "metadata": {},
     "output_type": "execute_result"
    }
   ],
   "source": [
    "type(c)"
   ]
  },
  {
   "cell_type": "code",
   "execution_count": 9,
   "id": "c031e6df-8090-485e-9d13-39bc6d760268",
   "metadata": {},
   "outputs": [],
   "source": [
    "d = 1."
   ]
  },
  {
   "cell_type": "code",
   "execution_count": 10,
   "id": "b6e76329-d72e-4526-8dab-9f599e6f61d0",
   "metadata": {},
   "outputs": [
    {
     "data": {
      "text/plain": [
       "float"
      ]
     },
     "execution_count": 10,
     "metadata": {},
     "output_type": "execute_result"
    }
   ],
   "source": [
    "type(d)"
   ]
  },
  {
   "cell_type": "markdown",
   "id": "7b506124-0ff8-4f1b-9096-1a62a69fd378",
   "metadata": {},
   "source": [
    "Q3. Explain the use of the following operators using an example:"
   ]
  },
  {
   "cell_type": "code",
   "execution_count": null,
   "id": "3b27d1c5-350f-4567-90ce-c39747062afb",
   "metadata": {},
   "outputs": [],
   "source": [
    "i) / = use for Division\n",
    "ii) % = Use for finding remainder\n",
    "iii) // = Use for finding quotient\n",
    "iV) ** = use for finding power "
   ]
  },
  {
   "cell_type": "code",
   "execution_count": 11,
   "id": "b594c21a-080d-4691-821b-2aaee60f2f4e",
   "metadata": {},
   "outputs": [
    {
     "data": {
      "text/plain": [
       "4.0"
      ]
     },
     "execution_count": 11,
     "metadata": {},
     "output_type": "execute_result"
    }
   ],
   "source": [
    "8/2"
   ]
  },
  {
   "cell_type": "code",
   "execution_count": 1,
   "id": "fcd7e3ab-b788-40a5-a387-5d7c0e90c726",
   "metadata": {},
   "outputs": [
    {
     "data": {
      "text/plain": [
       "0"
      ]
     },
     "execution_count": 1,
     "metadata": {},
     "output_type": "execute_result"
    }
   ],
   "source": [
    "8%2"
   ]
  },
  {
   "cell_type": "code",
   "execution_count": 16,
   "id": "682f0017-720a-43e9-8a3d-67e62f367e0b",
   "metadata": {},
   "outputs": [
    {
     "data": {
      "text/plain": [
       "2"
      ]
     },
     "execution_count": 16,
     "metadata": {},
     "output_type": "execute_result"
    }
   ],
   "source": [
    "8//3"
   ]
  },
  {
   "cell_type": "code",
   "execution_count": 17,
   "id": "7f7b5ce8-4126-4ba8-868f-3830f7492b42",
   "metadata": {},
   "outputs": [
    {
     "data": {
      "text/plain": [
       "25"
      ]
     },
     "execution_count": 17,
     "metadata": {},
     "output_type": "execute_result"
    }
   ],
   "source": [
    "5**2"
   ]
  },
  {
   "cell_type": "markdown",
   "id": "fe7b2c21-561a-410f-b3c8-740059217551",
   "metadata": {},
   "source": [
    "Q4. Create a list of length 10 of your choice containing multiple types of data. Using for loop print the\n",
    "element and its data type."
   ]
  },
  {
   "cell_type": "code",
   "execution_count": 20,
   "id": "aa7510b2-53b1-475f-a2f4-5d34e2fdf1c9",
   "metadata": {},
   "outputs": [
    {
     "name": "stdout",
     "output_type": "stream",
     "text": [
      "<class 'int'>\n",
      "<class 'int'>\n",
      "<class 'float'>\n",
      "<class 'bool'>\n",
      "<class 'complex'>\n"
     ]
    }
   ],
   "source": [
    "V = [3,5,54.6,False,6j+5]\n",
    "for i in V:\n",
    "    print(type(i))"
   ]
  },
  {
   "cell_type": "markdown",
   "id": "b13b8877-70d1-4a87-a6d9-7b250cd72aa2",
   "metadata": {},
   "source": [
    "Q5. Using a while loop, verify if the number A is purely divisible by number B and if so then how many times it can be divisible."
   ]
  },
  {
   "cell_type": "code",
   "execution_count": 22,
   "id": "4be15753-2f60-45d5-be8b-bf161e5d7d4a",
   "metadata": {},
   "outputs": [
    {
     "name": "stdin",
     "output_type": "stream",
     "text": [
      "enter a number 6\n",
      "enter a number 2\n"
     ]
    }
   ],
   "source": [
    "A = int(input('enter a number'))\n",
    "B = int(input('enter a number'))\n",
    "c = A/B\n",
    "while c==0 and A//B:\n",
    "    print(c)"
   ]
  },
  {
   "cell_type": "markdown",
   "id": "b79850ed-6bfb-4894-9f6d-6c85a9db588a",
   "metadata": {},
   "source": [
    "Q6. Create a list containing 25 int type data. Using for loop and if-else condition print if the element is\n",
    "divisible by 3 or not."
   ]
  },
  {
   "cell_type": "code",
   "execution_count": 11,
   "id": "7618cbf4-f18b-4bb5-bbd8-34219f3a8117",
   "metadata": {},
   "outputs": [
    {
     "name": "stdout",
     "output_type": "stream",
     "text": [
      "it is not divisible by 3\n",
      "it is not divisible by 3\n",
      "it is divisible by 3\n",
      "it is not divisible by 3\n",
      "it is not divisible by 3\n",
      "it is divisible by 3\n",
      "it is not divisible by 3\n",
      "it is not divisible by 3\n",
      "it is divisible by 3\n",
      "it is not divisible by 3\n",
      "it is not divisible by 3\n",
      "it is divisible by 3\n",
      "it is not divisible by 3\n",
      "it is not divisible by 3\n",
      "it is divisible by 3\n",
      "it is not divisible by 3\n",
      "it is not divisible by 3\n",
      "it is divisible by 3\n",
      "it is not divisible by 3\n",
      "it is not divisible by 3\n",
      "it is divisible by 3\n",
      "it is not divisible by 3\n",
      "it is not divisible by 3\n",
      "it is divisible by 3\n",
      "it is not divisible by 3\n"
     ]
    }
   ],
   "source": [
    "v = [1,2,3,4,5,6,7,8,9,10,11,12,13,14,15,16,17,18,19,20,21,22,23,24,25]\n",
    "for i in v:\n",
    "    if (i%3 == 0):\n",
    "        print('it is divisible by 3')\n",
    "    else:\n",
    "        print('it is not divisible by 3')\n"
   ]
  },
  {
   "cell_type": "markdown",
   "id": "66071d85-eaed-4af9-bfb7-4372e2701e05",
   "metadata": {},
   "source": [
    "Q7. What do you understand about mutable and immutable data types? Give examples for both showing\n",
    "this property."
   ]
  },
  {
   "cell_type": "markdown",
   "id": "5ce99f3b-c771-4ae6-aef3-648680420958",
   "metadata": {},
   "source": [
    "Mutable object can changed after it is assing\n",
    "Immutable object can not changed after it is assing"
   ]
  },
  {
   "cell_type": "code",
   "execution_count": 12,
   "id": "5ecdea62-151d-4365-b92a-490acdd85a9e",
   "metadata": {},
   "outputs": [],
   "source": [
    "l = [237,54,43,2,3.5,65]"
   ]
  },
  {
   "cell_type": "code",
   "execution_count": 14,
   "id": "f84bf4ff-21b6-4f59-83e7-26b4edbf5240",
   "metadata": {},
   "outputs": [],
   "source": [
    "l.extend('8')"
   ]
  },
  {
   "cell_type": "code",
   "execution_count": 15,
   "id": "d66d9b24-6731-49ff-8820-5dc941bf3289",
   "metadata": {},
   "outputs": [
    {
     "data": {
      "text/plain": [
       "[237, 54, 43, 2, 3.5, 65, '8']"
      ]
     },
     "execution_count": 15,
     "metadata": {},
     "output_type": "execute_result"
    }
   ],
   "source": [
    "l"
   ]
  },
  {
   "cell_type": "code",
   "execution_count": 16,
   "id": "46753412-3732-4faf-8ddf-3fdb9f50b5d4",
   "metadata": {},
   "outputs": [],
   "source": [
    "t = (334,5,56,8.7,56,654)"
   ]
  },
  {
   "cell_type": "code",
   "execution_count": 20,
   "id": "8b1d7dd8-64d3-43dc-b256-f318daeedd19",
   "metadata": {},
   "outputs": [
    {
     "data": {
      "text/plain": [
       "(334, 5, 56, 8.7, 56, 654)"
      ]
     },
     "execution_count": 20,
     "metadata": {},
     "output_type": "execute_result"
    }
   ],
   "source": [
    "t[::1]"
   ]
  },
  {
   "cell_type": "code",
   "execution_count": null,
   "id": "89d7a1ea-bf99-47d6-86ae-aa66d883649f",
   "metadata": {},
   "outputs": [],
   "source": []
  }
 ],
 "metadata": {
  "kernelspec": {
   "display_name": "Python 3 (ipykernel)",
   "language": "python",
   "name": "python3"
  },
  "language_info": {
   "codemirror_mode": {
    "name": "ipython",
    "version": 3
   },
   "file_extension": ".py",
   "mimetype": "text/x-python",
   "name": "python",
   "nbconvert_exporter": "python",
   "pygments_lexer": "ipython3",
   "version": "3.10.8"
  }
 },
 "nbformat": 4,
 "nbformat_minor": 5
}
